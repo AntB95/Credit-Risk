{
 "cells": [
  {
   "cell_type": "code",
   "execution_count": 1,
   "metadata": {},
   "outputs": [],
   "source": [
    "from matplotlib import pyplot as plt\n",
    "import numpy as np \n",
    "import pandas as pd\n",
    "import yfinance as yf\n",
    "from datetime import datetime as dt\n",
    "from scipy.optimize import minimize, Bounds\n",
    "import warnings\n",
    "warnings.filterwarnings('ignore')"
   ]
  },
  {
   "cell_type": "code",
   "execution_count": 2,
   "metadata": {},
   "outputs": [],
   "source": [
    "df = pd.read_csv(r'CR.csv',sep=';')\n",
    "df1 = pd.read_csv(r'Credit.csv',sep=';')"
   ]
  },
  {
   "cell_type": "code",
   "execution_count": 50,
   "metadata": {},
   "outputs": [],
   "source": [
    "y = df1[df1['Student'] == 0]['default']\n",
    "x1 = df1[df1['Student'] == 0]['balance']\n",
    "x2 = df1[df1['Student'] == 0]['income']"
   ]
  },
  {
   "cell_type": "code",
   "execution_count": 53,
   "metadata": {},
   "outputs": [],
   "source": [
    "def p(beta,x1,x2):\n",
    "    return np.exp(beta[0]+beta[1]*x1+beta[2]*x2)/(1+np.exp(beta[0]+beta[1]*x1+beta[2]*x2))\n",
    "\n",
    "def l(beta,y,x1,x2):\n",
    "    return -sum(np.log(p(beta,x1,x2)**y)+np.log((1-p(beta,x1,x2))**(1-y)))  "
   ]
  },
  {
   "cell_type": "code",
   "execution_count": 54,
   "metadata": {},
   "outputs": [
    {
     "name": "stdout",
     "output_type": "stream",
     "text": [
      "The estimates are:  [-4.25974955e+01  2.74912694e-02  2.77702235e-01]\n"
     ]
    }
   ],
   "source": [
    "beta0 = [-45,0.03,0.3]\n",
    "result = minimize(l,x0 = beta0,args = (y,x1,x2))\n",
    "print('The estimates are: ',result.x)"
   ]
  },
  {
   "cell_type": "code",
   "execution_count": 55,
   "metadata": {},
   "outputs": [
    {
     "name": "stdout",
     "output_type": "stream",
     "text": [
      "The estimates are:  [-6.22757390e+02  2.51653874e-01  3.56245021e+00]\n"
     ]
    }
   ],
   "source": [
    "y1 = df1[df1['Student'] == 1]['default']\n",
    "x11 = df1[df1['Student'] == 1]['balance']\n",
    "x21 = df1[df1['Student'] == 1]['income']\n",
    "\n",
    "beta0 = [-45,0.03,0.3]\n",
    "result = minimize(l,x0 = beta0,args = (y1,x11,x21))\n",
    "print('The estimates are: ',result.x)"
   ]
  },
  {
   "cell_type": "code",
   "execution_count": 60,
   "metadata": {},
   "outputs": [],
   "source": [
    "s1 = np.sqrt(result.hess_inv[0,0])\n",
    "s2 = np.sqrt(result.hess_inv[1,1])\n",
    "s3 = np.sqrt(result.hess_inv[2,2])"
   ]
  },
  {
   "cell_type": "code",
   "execution_count": 61,
   "metadata": {},
   "outputs": [
    {
     "data": {
      "text/plain": [
       "89404.26945395338"
      ]
     },
     "execution_count": 61,
     "metadata": {},
     "output_type": "execute_result"
    }
   ],
   "source": [
    "s1"
   ]
  },
  {
   "cell_type": "code",
   "execution_count": 63,
   "metadata": {},
   "outputs": [
    {
     "data": {
      "text/plain": [
       "512.7525687477184"
      ]
     },
     "execution_count": 63,
     "metadata": {},
     "output_type": "execute_result"
    }
   ],
   "source": [
    "s3"
   ]
  },
  {
   "cell_type": "code",
   "execution_count": 66,
   "metadata": {},
   "outputs": [
    {
     "name": "stdout",
     "output_type": "stream",
     "text": [
      "The estimates are:  [-4.49434619e+01  2.90403089e-02  2.92824659e-01 -1.85957016e+01]\n"
     ]
    }
   ],
   "source": [
    "y = df1['default']\n",
    "x1 = df1['balance']\n",
    "x2 = df1['income']\n",
    "x3 = df1['Student']\n",
    "\n",
    "def p(beta,x1,x2,x3):\n",
    "    return np.exp(beta[0]+beta[1]*x1+beta[2]*x2+beta[3]*x3)/(1+np.exp(beta[0]+beta[1]*x1+beta[2]*x2+beta[3]*x3))\n",
    "\n",
    "def l(beta,y,x1,x2,x3):\n",
    "    return -sum(np.log(p(beta,x1,x2,x3)**y)+np.log((1-p(beta,x1,x2,x3))**(1-y)))  \n",
    "\n",
    "beta0 = [-45,0.03,0.3,0.3]\n",
    "result = minimize(l,x0 = beta0,args = (y,x1,x2,x3))"
   ]
  },
  {
   "cell_type": "code",
   "execution_count": 69,
   "metadata": {},
   "outputs": [
    {
     "data": {
      "text/plain": [
       "array([4.18228368e+01, 1.80459963e-05, 1.84719725e-03, 6.76621149e-03])"
      ]
     },
     "execution_count": 69,
     "metadata": {},
     "output_type": "execute_result"
    }
   ],
   "source": [
    "np.diag(result.hess_inv)"
   ]
  },
  {
   "cell_type": "code",
   "execution_count": null,
   "metadata": {},
   "outputs": [],
   "source": []
  }
 ],
 "metadata": {
  "kernelspec": {
   "display_name": "Python 3",
   "language": "python",
   "name": "python3"
  },
  "language_info": {
   "codemirror_mode": {
    "name": "ipython",
    "version": 3
   },
   "file_extension": ".py",
   "mimetype": "text/x-python",
   "name": "python",
   "nbconvert_exporter": "python",
   "pygments_lexer": "ipython3",
   "version": "3.7.3"
  }
 },
 "nbformat": 4,
 "nbformat_minor": 2
}
