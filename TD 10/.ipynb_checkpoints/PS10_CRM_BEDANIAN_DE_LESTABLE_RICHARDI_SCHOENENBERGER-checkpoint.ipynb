{
 "cells": [
  {
   "cell_type": "markdown",
   "metadata": {},
   "source": [
    "# PS10_CRM_BEDANIAN_DE_LESTABLE_RICHARDI_SCHOENENBERGER"
   ]
  },
  {
   "cell_type": "code",
   "execution_count": 1,
   "metadata": {},
   "outputs": [],
   "source": [
    "#import\n",
    "from matplotlib import pyplot as plt\n",
    "import numpy as np \n",
    "import pandas as pd\n",
    "import statsmodels.discrete.discrete_model as sm\n",
    "from numpy.linalg import matrix_power"
   ]
  },
  {
   "cell_type": "code",
   "execution_count": 2,
   "metadata": {},
   "outputs": [],
   "source": [
    "#import data\n",
    "df1 = pd.read_csv(r'Credit.csv',sep=';')"
   ]
  },
  {
   "cell_type": "markdown",
   "metadata": {},
   "source": [
    "# Exercise 1"
   ]
  },
  {
   "cell_type": "markdown",
   "metadata": {},
   "source": [
    "## a)"
   ]
  },
  {
   "cell_type": "code",
   "execution_count": 3,
   "metadata": {},
   "outputs": [],
   "source": [
    "y = df1[df1['Student'] == 0]['default']\n",
    "x1 = df1[df1['Student'] == 0]['balance']\n",
    "x2 = df1[df1['Student'] == 0]['income']\n",
    "X = pd.DataFrame({'intercept': 1,'balance':x1,'income':x2})"
   ]
  },
  {
   "cell_type": "code",
   "execution_count": 4,
   "metadata": {},
   "outputs": [
    {
     "name": "stdout",
     "output_type": "stream",
     "text": [
      "Optimization terminated successfully.\n",
      "         Current function value: 0.028382\n",
      "         Iterations 13\n",
      "                           Logit Regression Results                           \n",
      "==============================================================================\n",
      "Dep. Variable:                default   No. Observations:                  360\n",
      "Model:                          Logit   Df Residuals:                      357\n",
      "Method:                           MLE   Df Model:                            2\n",
      "Date:                Tue, 03 Dec 2019   Pseudo R-squ.:                  0.9364\n",
      "Time:                        16:01:03   Log-Likelihood:                -10.218\n",
      "converged:                       True   LL-Null:                       -160.58\n",
      "                                        LLR p-value:                 4.981e-66\n",
      "==============================================================================\n",
      "                 coef    std err          z      P>|z|      [0.025      0.975]\n",
      "------------------------------------------------------------------------------\n",
      "intercept    -42.5995     12.859     -3.313      0.001     -67.803     -17.396\n",
      "balance        0.0275      0.009      3.195      0.001       0.011       0.044\n",
      "income         0.2777      0.083      3.358      0.001       0.116       0.440\n",
      "==============================================================================\n",
      "\n",
      "Possibly complete quasi-separation: A fraction 0.82 of observations can be\n",
      "perfectly predicted. This might indicate that there is complete\n",
      "quasi-separation. In this case some parameters will not be identified.\n"
     ]
    }
   ],
   "source": [
    "logit = sm.Logit(y, X)\n",
    "print(logit.fit().summary())"
   ]
  },
  {
   "cell_type": "code",
   "execution_count": 5,
   "metadata": {},
   "outputs": [
    {
     "name": "stdout",
     "output_type": "stream",
     "text": [
      "Optimization terminated successfully.\n",
      "         Current function value: 0.490261\n",
      "         Iterations 6\n",
      "                           Logit Regression Results                           \n",
      "==============================================================================\n",
      "Dep. Variable:                default   No. Observations:                   40\n",
      "Model:                          Logit   Df Residuals:                       38\n",
      "Method:                           MLE   Df Model:                            1\n",
      "Date:                Tue, 03 Dec 2019   Pseudo R-squ.:                 -0.3012\n",
      "Time:                        16:01:04   Log-Likelihood:                -19.610\n",
      "converged:                       True   LL-Null:                       -15.071\n",
      "                                        LLR p-value:                     1.000\n",
      "==============================================================================\n",
      "                 coef    std err          z      P>|z|      [0.025      0.975]\n",
      "------------------------------------------------------------------------------\n",
      "balance       -0.0024      0.001     -2.867      0.004      -0.004      -0.001\n",
      "income         0.0190      0.011      1.765      0.078      -0.002       0.040\n",
      "==============================================================================\n"
     ]
    }
   ],
   "source": [
    "y1 = df1[df1['Student'] == 1]['default']\n",
    "x11 = df1[df1['Student'] == 1]['balance']\n",
    "x21 = df1[df1['Student'] == 1]['income']\n",
    "\n",
    "X1 = pd.DataFrame({'balance':x11,'income':x21})\n",
    "logit1 = sm.Logit(y1, X1)\n",
    "print(logit1.fit().summary())"
   ]
  },
  {
   "cell_type": "markdown",
   "metadata": {},
   "source": [
    "## b)"
   ]
  },
  {
   "cell_type": "code",
   "execution_count": 6,
   "metadata": {},
   "outputs": [
    {
     "name": "stdout",
     "output_type": "stream",
     "text": [
      "Optimization terminated successfully.\n",
      "         Current function value: 0.490261\n",
      "         Iterations 6\n"
     ]
    },
    {
     "data": {
      "text/plain": [
       "array([0.66657201])"
      ]
     },
     "execution_count": 6,
     "metadata": {},
     "output_type": "execute_result"
    }
   ],
   "source": [
    "logit1.fit().predict(np.array([500,100]))"
   ]
  },
  {
   "cell_type": "markdown",
   "metadata": {},
   "source": [
    "The default probability for a student with balance 500 an d income 100 is 0.667"
   ]
  },
  {
   "cell_type": "markdown",
   "metadata": {},
   "source": [
    "## c)"
   ]
  },
  {
   "cell_type": "markdown",
   "metadata": {},
   "source": [
    "The confusion matrix for the non student is:"
   ]
  },
  {
   "cell_type": "code",
   "execution_count": 7,
   "metadata": {},
   "outputs": [
    {
     "name": "stdout",
     "output_type": "stream",
     "text": [
      "Optimization terminated successfully.\n",
      "         Current function value: 0.028382\n",
      "         Iterations 13\n"
     ]
    },
    {
     "data": {
      "text/plain": [
       "array([[300.,   1.],\n",
       "       [  3.,  56.]])"
      ]
     },
     "execution_count": 7,
     "metadata": {},
     "output_type": "execute_result"
    }
   ],
   "source": [
    "logit.fit().pred_table(threshold = 0.5)"
   ]
  },
  {
   "cell_type": "markdown",
   "metadata": {},
   "source": [
    "The confusion matrix for the student is:"
   ]
  },
  {
   "cell_type": "code",
   "execution_count": 8,
   "metadata": {},
   "outputs": [
    {
     "name": "stdout",
     "output_type": "stream",
     "text": [
      "Optimization terminated successfully.\n",
      "         Current function value: 0.490261\n",
      "         Iterations 6\n"
     ]
    },
    {
     "data": {
      "text/plain": [
       "array([[28.,  7.],\n",
       "       [ 4.,  1.]])"
      ]
     },
     "execution_count": 8,
     "metadata": {},
     "output_type": "execute_result"
    }
   ],
   "source": [
    "logit1.fit().pred_table(threshold = 0.5)"
   ]
  },
  {
   "cell_type": "markdown",
   "metadata": {},
   "source": [
    "# Exercise 2"
   ]
  },
  {
   "cell_type": "markdown",
   "metadata": {},
   "source": [
    "## a)"
   ]
  },
  {
   "cell_type": "markdown",
   "metadata": {},
   "source": [
    "We compute the confusion matrix: "
   ]
  },
  {
   "cell_type": "code",
   "execution_count": 9,
   "metadata": {},
   "outputs": [
    {
     "data": {
      "text/plain": [
       "matrix([[0.95, 0.05, 0.  , 0.  ],\n",
       "        [0.05, 0.8 , 0.1 , 0.05],\n",
       "        [0.  , 0.2 , 0.5 , 0.3 ],\n",
       "        [0.  , 0.  , 0.  , 1.  ]])"
      ]
     },
     "execution_count": 9,
     "metadata": {},
     "output_type": "execute_result"
    }
   ],
   "source": [
    "#a, transition matrix completed as requested in exercise\n",
    "transition_matrix = np.matrix([[0.95,0.05,0,0],[0.05,0.8,0.1,0.05],[0.0,0.2,0.5,0.3],[0.0,0.0,0.0,1.0]])\n",
    "transition_matrix"
   ]
  },
  {
   "cell_type": "markdown",
   "metadata": {},
   "source": [
    "## b)"
   ]
  },
  {
   "cell_type": "code",
   "execution_count": 10,
   "metadata": {},
   "outputs": [],
   "source": [
    "#b\n",
    "def_a = []\n",
    "def_b = []\n",
    "def_c = []\n",
    "def_d = []\n",
    "\n",
    "T = 20\n",
    "for t in range(0,T):\n",
    "    a = np.asarray([1,0,0,0])\n",
    "    b = np.asarray([0,1,0,0])\n",
    "    c = np.asarray([0,0,1,0])\n",
    "    d = np.asarray([0,0,0,1])\n",
    "    \n",
    "    transition = matrix_power(transition_matrix,t+1)\n",
    "\n",
    "    default_a = a @ transition  \n",
    "    def_a = np.append(def_a, default_a[0,3])\n",
    "    \n",
    "    default_b = b @ transition  \n",
    "    def_b = np.append(def_b, default_b[0,3])\n",
    "    \n",
    "    default_c = c @ transition \n",
    "    def_c = np.append(def_c, default_c[0,3])\n",
    "    \n",
    "    default_d = d @ transition\n",
    "    def_d = np.append(def_d, default_d[0,3])"
   ]
  },
  {
   "cell_type": "code",
   "execution_count": 11,
   "metadata": {},
   "outputs": [
    {
     "data": {
      "image/png": "[encoded data removed]",
      "text/plain": [
       "<Figure size 432x288 with 1 Axes>"
      ]
     },
     "metadata": {
      "needs_background": "light"
     },
     "output_type": "display_data"
    }
   ],
   "source": [
    "plt.plot(range(0,T),def_a)\n",
    "plt.plot(def_b)\n",
    "plt.plot(def_c)\n",
    "plt.plot(def_d)\n",
    "plt.legend(['Class A','Class B','Class C', 'Class D'])\n",
    "plt.title('Default probabilities over T=1,...,20')\n",
    "plt.xlim((1,20))\n",
    "plt.show()"
   ]
  },
  {
   "cell_type": "markdown",
   "metadata": {},
   "source": [
    "## c)"
   ]
  },
  {
   "cell_type": "markdown",
   "metadata": {},
   "source": [
    "We compute the transition probability:"
   ]
  },
  {
   "cell_type": "code",
   "execution_count": 12,
   "metadata": {},
   "outputs": [
    {
     "name": "stdout",
     "output_type": "stream",
     "text": [
      "          A         B         C         D\n",
      "A  0.949259  0.050741  0.000000  0.000000\n",
      "B  0.050211  0.797890  0.106751  0.045148\n",
      "C  0.000000  0.191964  0.498512  0.309524\n",
      "D  0.000000  0.000000  0.000000  1.000000\n"
     ]
    }
   ],
   "source": [
    "# c\n",
    "credit_ratings = pd.read_csv('CR.csv',sep=';')\n",
    "credit_ratings = credit_ratings.drop(['Firms'], axis=1).dropna()\n",
    "\n",
    "transition_pairs = [['A','A'],['A','B'],['A','C'],['A','D'], ['B','A'],['B','B'],['B','C'],['B','D'],\n",
    "        ['C','A'],['C','B'],['C','C'],['C','D'],['D','A'],['D','B'],['D','C'],['D','D']]\n",
    "\n",
    "transition_prob = []\n",
    "\n",
    "#Compute the MLE estimator\n",
    "for p in transition_pairs:\n",
    "    denominator = np.sum([credit_ratings.iloc[i].str.count(p[0]).sum() for i in range(0,19)])\n",
    "    num = []\n",
    "    for i in range(0,19):\n",
    "        num.append((credit_ratings.iloc[i]==p[0])&(credit_ratings.iloc[i+1]==p[1]))\n",
    "    numerator = np.sum(num)\n",
    "    transition_prob.append(numerator/denominator)\n",
    "\n",
    "transition_prob = pd.DataFrame(np.array(transition_prob).reshape((4,4)),columns=['A','B','C','D'],index=['A','B','C','D'])\n",
    "print(transition_prob)"
   ]
  },
  {
   "cell_type": "code",
   "execution_count": null,
   "metadata": {},
   "outputs": [],
   "source": []
  }
 ],
 "metadata": {
  "kernelspec": {
   "display_name": "Python 3",
   "language": "python",
   "name": "python3"
  },
  "language_info": {
   "codemirror_mode": {
    "name": "ipython",
    "version": 3
   },
   "file_extension": ".py",
   "mimetype": "text/x-python",
   "name": "python",
   "nbconvert_exporter": "python",
   "pygments_lexer": "ipython3",
   "version": "3.7.3"
  }
 },
 "nbformat": 4,
 "nbformat_minor": 2
}
