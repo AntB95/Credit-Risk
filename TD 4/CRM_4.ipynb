{
 "cells": [
  {
   "cell_type": "code",
   "execution_count": 5,
   "metadata": {},
   "outputs": [],
   "source": [
    "import pandas as pd \n",
    "import statsmodels.api as sm\n",
    "import numpy as np "
   ]
  },
  {
   "cell_type": "markdown",
   "metadata": {},
   "source": [
    "# Exercise 4"
   ]
  },
  {
   "cell_type": "code",
   "execution_count": 6,
   "metadata": {},
   "outputs": [],
   "source": [
    "#Set Parameters\n",
    "a = 1\n",
    "b0 = 0.07\n",
    "b1 = -0.02\n",
    "b2 = 0.01"
   ]
  },
  {
   "cell_type": "code",
   "execution_count": 7,
   "metadata": {},
   "outputs": [],
   "source": [
    "#Define functions \n",
    "def r(T):\n",
    "    return b0+ b1*(1-np.exp(-a*T))/(a*T)+b2*(1-(1+a*T)*np.exp(-a*T))/(a*T)\n",
    "            \n",
    "def f(C,T): \n",
    "    return (np.exp(-T*r(T))*(-T))*C\n",
    "\n",
    "def g(C,T): return f(C,T)*(1 - np.exp(-a*T))/(a*T)\n",
    "\n",
    "def h(C,T): return f(C,T)*(1-(1+a*T)*np.exp(-a*T))/(a*T)"
   ]
  },
  {
   "cell_type": "code",
   "execution_count": 8,
   "metadata": {},
   "outputs": [
    {
     "name": "stdout",
     "output_type": "stream",
     "text": [
      "The optimal quantities for static hedging of this bond is:\n",
      "[-1.50994965  3.9662165  -5.62314624]\n"
     ]
    }
   ],
   "source": [
    "# Compute the cashflows and solve for the quantities\n",
    "C = np.array([-10]*19+[-110])\n",
    "T = np.arange(0.5,10.5,0.5)\n",
    "b = np.array([sum(f(C,T)),sum(g(C,T)),sum(h(C,T))])\n",
    "A = np.array([[f(100,1),f(100,3),f(100,5)],[g(100,1),g(100,3),g(100,5)],[h(100,1),h(100,3),h(100,5)]])\n",
    "x = np.linalg.solve(A, b)\n",
    "print('The optimal quantities for static hedging of this bond is:')\n",
    "print(x)"
   ]
  },
  {
   "cell_type": "code",
   "execution_count": null,
   "metadata": {},
   "outputs": [],
   "source": []
  }
 ],
 "metadata": {
  "kernelspec": {
   "display_name": "Python 3",
   "language": "python",
   "name": "python3"
  },
  "language_info": {
   "codemirror_mode": {
    "name": "ipython",
    "version": 3
   },
   "file_extension": ".py",
   "mimetype": "text/x-python",
   "name": "python",
   "nbconvert_exporter": "python",
   "pygments_lexer": "ipython3",
   "version": "3.7.4"
  }
 },
 "nbformat": 4,
 "nbformat_minor": 2
}
