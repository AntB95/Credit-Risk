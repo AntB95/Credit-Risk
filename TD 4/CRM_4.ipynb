{
 "cells": [
  {
   "cell_type": "code",
   "execution_count": 1,
   "metadata": {},
   "outputs": [],
   "source": [
    "import pandas as pd \n",
    "import statsmodels.api as sm\n",
    "import numpy as np "
   ]
  },
  {
   "cell_type": "code",
   "execution_count": 25,
   "metadata": {},
   "outputs": [
    {
     "name": "stdout",
     "output_type": "stream",
     "text": [
      "                            OLS Regression Results                            \n",
      "==============================================================================\n",
      "Dep. Variable:                      y   R-squared:                       0.996\n",
      "Model:                            OLS   Adj. R-squared:                  0.996\n",
      "Method:                 Least Squares   F-statistic:                     4866.\n",
      "Date:                Mon, 14 Oct 2019   Prob (F-statistic):           1.57e-44\n",
      "Time:                        16:43:06   Log-Likelihood:                 119.57\n",
      "No. Observations:                  39   AIC:                            -233.1\n",
      "Df Residuals:                      36   BIC:                            -228.1\n",
      "Df Model:                           2                                         \n",
      "Covariance Type:            nonrobust                                         \n",
      "==============================================================================\n",
      "                 coef    std err          t      P>|t|      [0.025      0.975]\n",
      "------------------------------------------------------------------------------\n",
      "beta_0         0.1320      0.016      8.301      0.000       0.100       0.164\n",
      "beta_1         0.8806      0.015     60.029      0.000       0.851       0.910\n",
      "beta_2         0.6644      0.033     20.297      0.000       0.598       0.731\n",
      "==============================================================================\n",
      "Omnibus:                        5.170   Durbin-Watson:                   0.079\n",
      "Prob(Omnibus):                  0.075   Jarque-Bera (JB):                2.532\n",
      "Skew:                           0.352   Prob(JB):                        0.282\n",
      "Kurtosis:                       1.969   Cond. No.                         24.3\n",
      "==============================================================================\n",
      "\n",
      "Warnings:\n",
      "[1] Standard Errors assume that the covariance matrix of the errors is correctly specified.\n"
     ]
    }
   ],
   "source": [
    "df = pd.read_excel(r'/Users/bedanian/Desktop/Interest Rate Credit Risk/Credit-Risk/TD 4/exo3.xlsx')\n",
    "a = 0.06\n",
    "df['beta_0'] = 1\n",
    "df['beta_1'] = np.exp(-a*df['T'])\n",
    "df['beta_2'] = a*df['T']*np.exp(-a*df['T'])\n",
    "Y = df['y'].copy()\n",
    "X = df[['beta_0','beta_1','beta_2']].copy()\n",
    "model = sm.OLS(Y,X)\n",
    "model_fit = model.fit()\n",
    "print(model_fit.summary())"
   ]
  },
  {
   "cell_type": "code",
   "execution_count": 60,
   "metadata": {},
   "outputs": [],
   "source": [
    "a = 1\n",
    "b0 = 0.07\n",
    "b1 = -0.02\n",
    "b2 = 0.01\n",
    "\n",
    "def r(T):\n",
    "    return b0+ b1*(1-np.exp(-a*T))/(a*T)+b2*(1-(1+a*T)*np.exp(-a*T))/(a*T)\n",
    "            \n",
    "def f(C,T): \n",
    "    return (np.exp(-T*r(T))*(-T))*C\n",
    "\n",
    "def g(C,T): return f(C,T)*(1 - np.exp(-a*T))/(a*T)\n",
    "\n",
    "def h(C,T): return f(C,T)*(1-(1+a*T)*np.exp(-a*T))/(a*T)\n",
    "\n",
    "C = np.array([-10]*19+[-110])\n",
    "T = np.arange(0.5,10.5,0.5)\n",
    "b = np.array([sum(f(C,T)),sum(g(C,T)),sum(h(C,T))])\n",
    "A = np.array([[f(100,1),f(100,3),f(100,5)],[g(100,1),g(100,3),g(100,5)],[h(100,1),h(100,3),h(100,5)]])\n",
    "x = np.linalg.solve(A, b)\n",
    "print(x)"
   ]
  }
 ],
 "metadata": {
  "kernelspec": {
   "display_name": "Python 3",
   "language": "python",
   "name": "python3"
  },
  "language_info": {
   "codemirror_mode": {
    "name": "ipython",
    "version": 3
   },
   "file_extension": ".py",
   "mimetype": "text/x-python",
   "name": "python",
   "nbconvert_exporter": "python",
   "pygments_lexer": "ipython3",
   "version": "3.7.4"
  }
 },
 "nbformat": 4,
 "nbformat_minor": 2
}
