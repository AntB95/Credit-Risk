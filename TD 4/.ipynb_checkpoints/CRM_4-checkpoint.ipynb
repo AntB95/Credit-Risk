{
 "cells": [
  {
   "cell_type": "code",
   "execution_count": 1,
   "metadata": {},
   "outputs": [],
   "source": [
    "import pandas as pd \n",
    "import statsmodels.api as sm\n",
    "import numpy as np "
   ]
  },
  {
   "cell_type": "code",
   "execution_count": 8,
   "metadata": {},
   "outputs": [
    {
     "name": "stdout",
     "output_type": "stream",
     "text": [
      "                            OLS Regression Results                            \n",
      "==============================================================================\n",
      "Dep. Variable:                      y   R-squared:                       0.989\n",
      "Model:                            OLS   Adj. R-squared:                  0.989\n",
      "Method:                 Least Squares   F-statistic:                     1687.\n",
      "Date:                Mon, 14 Oct 2019   Prob (F-statistic):           2.66e-36\n",
      "Time:                        19:45:28   Log-Likelihood:                 203.64\n",
      "No. Observations:                  39   AIC:                            -401.3\n",
      "Df Residuals:                      36   BIC:                            -396.3\n",
      "Df Model:                           2                                         \n",
      "Covariance Type:            nonrobust                                         \n",
      "==============================================================================\n",
      "                 coef    std err          t      P>|t|      [0.025      0.975]\n",
      "------------------------------------------------------------------------------\n",
      "beta_0         0.0306      0.002     16.599      0.000       0.027       0.034\n",
      "beta_1        -0.0294      0.002    -17.300      0.000      -0.033      -0.026\n",
      "beta_2         0.0317      0.004      8.363      0.000       0.024       0.039\n",
      "==============================================================================\n",
      "Omnibus:                        1.124   Durbin-Watson:                   0.263\n",
      "Prob(Omnibus):                  0.570   Jarque-Bera (JB):                0.413\n",
      "Skew:                           0.194   Prob(JB):                        0.813\n",
      "Kurtosis:                       3.323   Cond. No.                         24.3\n",
      "==============================================================================\n",
      "\n",
      "Warnings:\n",
      "[1] Standard Errors assume that the covariance matrix of the errors is correctly specified.\n"
     ]
    }
   ],
   "source": [
    "df = pd.read_excel(r'/Users/bedanian/Desktop/Interest Rate Credit Risk/Credit-Risk/TD 4/exo3.xlsx')\n",
    "a = 0.06\n",
    "df['beta_0'] = 1\n",
    "df['beta_1'] = np.exp(-a*df['T'])\n",
    "df['beta_2'] = a*df['T']*np.exp(-a*df['T'])\n",
    "Y = df['y'].copy()\n",
    "X = df[['beta_0','beta_1','beta_2']].copy()\n",
    "model = sm.OLS(Y,X)\n",
    "model_fit = model.fit()\n",
    "print(model_fit.summary())"
   ]
  },
  {
   "cell_type": "code",
   "execution_count": 4,
   "metadata": {},
   "outputs": [
    {
     "data": {
      "text/html": [
       "<div>\n",
       "<style scoped>\n",
       "    .dataframe tbody tr th:only-of-type {\n",
       "        vertical-align: middle;\n",
       "    }\n",
       "\n",
       "    .dataframe tbody tr th {\n",
       "        vertical-align: top;\n",
       "    }\n",
       "\n",
       "    .dataframe thead th {\n",
       "        text-align: right;\n",
       "    }\n",
       "</style>\n",
       "<table border=\"1\" class=\"dataframe\">\n",
       "  <thead>\n",
       "    <tr style=\"text-align: right;\">\n",
       "      <th></th>\n",
       "      <th>beta_0</th>\n",
       "      <th>beta_1</th>\n",
       "      <th>beta_2</th>\n",
       "    </tr>\n",
       "  </thead>\n",
       "  <tbody>\n",
       "    <tr>\n",
       "      <th>0</th>\n",
       "      <td>1</td>\n",
       "      <td>0.999833</td>\n",
       "      <td>0.000167</td>\n",
       "    </tr>\n",
       "    <tr>\n",
       "      <th>1</th>\n",
       "      <td>1</td>\n",
       "      <td>0.994515</td>\n",
       "      <td>0.005470</td>\n",
       "    </tr>\n",
       "    <tr>\n",
       "      <th>2</th>\n",
       "      <td>1</td>\n",
       "      <td>0.984784</td>\n",
       "      <td>0.015100</td>\n",
       "    </tr>\n",
       "    <tr>\n",
       "      <th>3</th>\n",
       "      <td>1</td>\n",
       "      <td>0.972388</td>\n",
       "      <td>0.027227</td>\n",
       "    </tr>\n",
       "    <tr>\n",
       "      <th>4</th>\n",
       "      <td>1</td>\n",
       "      <td>0.970122</td>\n",
       "      <td>0.029427</td>\n",
       "    </tr>\n",
       "  </tbody>\n",
       "</table>\n",
       "</div>"
      ],
      "text/plain": [
       "   beta_0    beta_1    beta_2\n",
       "0       1  0.999833  0.000167\n",
       "1       1  0.994515  0.005470\n",
       "2       1  0.984784  0.015100\n",
       "3       1  0.972388  0.027227\n",
       "4       1  0.970122  0.029427"
      ]
     },
     "execution_count": 4,
     "metadata": {},
     "output_type": "execute_result"
    }
   ],
   "source": [
    "X.head()"
   ]
  },
  {
   "cell_type": "code",
   "execution_count": 60,
   "metadata": {},
   "outputs": [],
   "source": [
    "a = 1\n",
    "b0 = 0.07\n",
    "b1 = -0.02\n",
    "b2 = 0.01\n",
    "\n",
    "def r(T):\n",
    "    return b0+ b1*(1-np.exp(-a*T))/(a*T)+b2*(1-(1+a*T)*np.exp(-a*T))/(a*T)\n",
    "            \n",
    "def f(C,T): \n",
    "    return (np.exp(-T*r(T))*(-T))*C\n",
    "\n",
    "def g(C,T): return f(C,T)*(1 - np.exp(-a*T))/(a*T)\n",
    "\n",
    "def h(C,T): return f(C,T)*(1-(1+a*T)*np.exp(-a*T))/(a*T)\n",
    "\n",
    "C = np.array([-10]*19+[-110])\n",
    "T = np.arange(0.5,10.5,0.5)\n",
    "b = np.array([sum(f(C,T)),sum(g(C,T)),sum(h(C,T))])\n",
    "A = np.array([[f(100,1),f(100,3),f(100,5)],[g(100,1),g(100,3),g(100,5)],[h(100,1),h(100,3),h(100,5)]])\n",
    "x = np.linalg.solve(A, b)\n",
    "print(x)"
   ]
  }
 ],
 "metadata": {
  "kernelspec": {
   "display_name": "Python 3",
   "language": "python",
   "name": "python3"
  },
  "language_info": {
   "codemirror_mode": {
    "name": "ipython",
    "version": 3
   },
   "file_extension": ".py",
   "mimetype": "text/x-python",
   "name": "python",
   "nbconvert_exporter": "python",
   "pygments_lexer": "ipython3",
   "version": "3.7.3"
  }
 },
 "nbformat": 4,
 "nbformat_minor": 2
}
