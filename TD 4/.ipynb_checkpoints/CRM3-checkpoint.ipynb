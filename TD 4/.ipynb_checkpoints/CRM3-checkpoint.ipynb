{
 "cells": [
  {
   "cell_type": "markdown",
   "metadata": {},
   "source": [
    "# Exercise 1 - CHF EUR USD Bonds"
   ]
  },
  {
   "cell_type": "code",
   "execution_count": 16,
   "metadata": {},
   "outputs": [],
   "source": [
    "import numpy as np\n",
    "import pandas as pd\n",
    "import matplotlib.pyplot as plt\n",
    "import scipy.stats as stats"
   ]
  },
  {
   "cell_type": "code",
   "execution_count": 17,
   "metadata": {},
   "outputs": [],
   "source": [
    "df = pd.read_csv('CRM_3_1.csv')\n",
    "df.drop(df.columns[len(df.columns)-1],axis = 1,inplace = True)\n",
    "df.loc[:,df.columns != 'Date'] = df.loc[:,df.columns != 'Date'].divide(100)"
   ]
  },
  {
   "cell_type": "markdown",
   "metadata": {},
   "source": [
    "# Question 1 "
   ]
  },
  {
   "cell_type": "code",
   "execution_count": 18,
   "metadata": {},
   "outputs": [],
   "source": [
    "Y = df.loc[df.index == len(df) - 1 , df.columns[1:(len(df.columns)-2)]]\n",
    "alpha = [0.01 , 0.1 , 1]\n",
    "T = [2 , 3 , 4 , 5 , 7 , 10 , 20 , 30]"
   ]
  },
  {
   "cell_type": "code",
   "execution_count": 19,
   "metadata": {},
   "outputs": [],
   "source": [
    "gamma = pd.DataFrame(columns = T , index = T)\n",
    "for i in range(len(T)):\n",
    "    for j in range(len(T)):\n",
    "        gamma.at[T[i],T[j]] = T[i]*T[j] * (1 + min(T[i],T[j])) - (T[i] + T[j])/2 * min(T[i],T[j]) **2 + min(T[i],T[j]) **3 / 3"
   ]
  },
  {
   "cell_type": "code",
   "execution_count": 20,
   "metadata": {},
   "outputs": [],
   "source": [
    "def Big_Mat(Mat,alpha,T):\n",
    "    Mat = np.array(Mat)\n",
    "    n = len(Mat)\n",
    "    In = np.identity(n)\n",
    "    Mat = pd.DataFrame(Mat*alpha + In,columns = T , index = T)\n",
    "    Mat.insert(0,'0', np.array(T) * alpha)\n",
    "    T.insert(0,0)\n",
    "    Mat.loc[0] = T\n",
    "    Mat.sort_index(inplace = True)\n",
    "    return Mat"
   ]
  },
  {
   "cell_type": "code",
   "execution_count": 21,
   "metadata": {},
   "outputs": [],
   "source": [
    "T2 = [0 , 2 , 3 , 4 , 5 , 7 , 10 , 20 , 30]\n",
    "Beta = pd.DataFrame(index = T2,columns = alpha)\n",
    "Y = Y.values.tolist()[0]\n",
    "Y.insert(0,0)\n",
    "Y = np.array(Y)\n",
    "for i in range(len(alpha)):\n",
    "    Mat = Big_Mat(gamma,alpha[i],T)\n",
    "    Vec = alpha[i] * np.array(T) * Y\n",
    "    T = [2 , 3 , 4 , 5 , 7 , 10 , 20 , 30]\n",
    "    Beta.loc[:,alpha[i]] = np.linalg.solve(np.array(Mat,dtype = 'float'), Vec)"
   ]
  },
  {
   "cell_type": "code",
   "execution_count": 22,
   "metadata": {},
   "outputs": [
    {
     "data": {
      "text/html": [
       "<div>\n",
       "<style scoped>\n",
       "    .dataframe tbody tr th:only-of-type {\n",
       "        vertical-align: middle;\n",
       "    }\n",
       "\n",
       "    .dataframe tbody tr th {\n",
       "        vertical-align: top;\n",
       "    }\n",
       "\n",
       "    .dataframe thead th {\n",
       "        text-align: right;\n",
       "    }\n",
       "</style>\n",
       "<table border=\"1\" class=\"dataframe\">\n",
       "  <thead>\n",
       "    <tr style=\"text-align: right;\">\n",
       "      <th></th>\n",
       "      <th>0.01</th>\n",
       "      <th>0.1</th>\n",
       "      <th>1.0</th>\n",
       "    </tr>\n",
       "  </thead>\n",
       "  <tbody>\n",
       "    <tr>\n",
       "      <th>0</th>\n",
       "      <td>-0.004737</td>\n",
       "      <td>-0.007582</td>\n",
       "      <td>-0.008369</td>\n",
       "    </tr>\n",
       "    <tr>\n",
       "      <th>2</th>\n",
       "      <td>-0.000069</td>\n",
       "      <td>-0.000162</td>\n",
       "      <td>-0.000191</td>\n",
       "    </tr>\n",
       "    <tr>\n",
       "      <th>3</th>\n",
       "      <td>-0.000095</td>\n",
       "      <td>-0.000217</td>\n",
       "      <td>-0.000304</td>\n",
       "    </tr>\n",
       "    <tr>\n",
       "      <th>4</th>\n",
       "      <td>-0.000108</td>\n",
       "      <td>-0.000229</td>\n",
       "      <td>-0.000285</td>\n",
       "    </tr>\n",
       "    <tr>\n",
       "      <th>5</th>\n",
       "      <td>-0.000111</td>\n",
       "      <td>-0.000208</td>\n",
       "      <td>-0.000223</td>\n",
       "    </tr>\n",
       "    <tr>\n",
       "      <th>7</th>\n",
       "      <td>-0.000088</td>\n",
       "      <td>-0.000101</td>\n",
       "      <td>-0.000107</td>\n",
       "    </tr>\n",
       "    <tr>\n",
       "      <th>10</th>\n",
       "      <td>-0.000018</td>\n",
       "      <td>0.000122</td>\n",
       "      <td>0.000219</td>\n",
       "    </tr>\n",
       "    <tr>\n",
       "      <th>20</th>\n",
       "      <td>0.000102</td>\n",
       "      <td>0.000155</td>\n",
       "      <td>0.000138</td>\n",
       "    </tr>\n",
       "    <tr>\n",
       "      <th>30</th>\n",
       "      <td>0.000005</td>\n",
       "      <td>-0.000023</td>\n",
       "      <td>-0.000022</td>\n",
       "    </tr>\n",
       "  </tbody>\n",
       "</table>\n",
       "</div>"
      ],
      "text/plain": [
       "        0.01      0.10      1.00\n",
       "0  -0.004737 -0.007582 -0.008369\n",
       "2  -0.000069 -0.000162 -0.000191\n",
       "3  -0.000095 -0.000217 -0.000304\n",
       "4  -0.000108 -0.000229 -0.000285\n",
       "5  -0.000111 -0.000208 -0.000223\n",
       "7  -0.000088 -0.000101 -0.000107\n",
       "10 -0.000018  0.000122  0.000219\n",
       "20  0.000102  0.000155  0.000138\n",
       "30  0.000005 -0.000023 -0.000022"
      ]
     },
     "execution_count": 22,
     "metadata": {},
     "output_type": "execute_result"
    }
   ],
   "source": [
    "Beta"
   ]
  },
  {
   "cell_type": "code",
   "execution_count": 23,
   "metadata": {},
   "outputs": [],
   "source": [
    "def fun(u,Beta,T):\n",
    "    Beta = Beta.tolist()\n",
    "    y = Beta[0]\n",
    "    for i in range(len(T)):\n",
    "        if u <= T[i]:\n",
    "            y = y + Beta[i+1]/u * (T[i]*u + T[i]*u**2/2 - u**3/6)\n",
    "        else:\n",
    "            y = y + Beta[i+1]/u * (T[i]**2 *u /2- T[i]**3/6 + T[i]*u)\n",
    "    return y\n",
    "def forward(u,Beta,T):\n",
    "    Beta = Beta.tolist()\n",
    "    y = Beta[0]\n",
    "    for i in range(len(T)):\n",
    "        if T[i] <= u:\n",
    "            y = y + Beta[i+1] * (T[i] + T[i]**2/2)\n",
    "        else:\n",
    "            y = y + Beta[i+1] * (T[i] *u - u**2/2 + T[i])\n",
    "    return y"
   ]
  },
  {
   "cell_type": "code",
   "execution_count": 24,
   "metadata": {},
   "outputs": [],
   "source": [
    "u = np.arange(0.01,30,0.01)\n",
    "res_u = pd.DataFrame(index = u, columns = alpha)\n",
    "\n",
    "for i in range(len(alpha)):\n",
    "    for j in range(len(u)):\n",
    "        res_u.loc[u[j],alpha[i]] = fun(u[j] ,Beta.loc[:,alpha[i]],T)"
   ]
  },
  {
   "cell_type": "code",
   "execution_count": 25,
   "metadata": {},
   "outputs": [],
   "source": [
    "np.delete(Y,0)\n",
    "P = np.zeros(len(T))\n",
    "fwd = np.zeros(len(T))\n",
    "for i in range(len(T)):\n",
    "    P[i] = np.exp(-T[i]*Y[i])\n",
    "for i in range(len(T)):\n",
    "    if i == 0:\n",
    "        fwd[i] = 1/T[i] * (1/P[i] - 1)\n",
    "    else:\n",
    "        fwd[i] = 1/T[i] * (P[i-1]/P[i] - 1)"
   ]
  },
  {
   "cell_type": "code",
   "execution_count": 26,
   "metadata": {},
   "outputs": [
    {
     "data": {
      "text/plain": [
       "Text(0, 0.5, 'Instantaneous forward')"
      ]
     },
     "execution_count": 26,
     "metadata": {},
     "output_type": "execute_result"
    },
    {
     "data": {
      "image/png": "[encoded data removed]",
      "text/plain": [
       "<Figure size 1152x576 with 1 Axes>"
      ]
     },
     "metadata": {
      "needs_background": "light"
     },
     "output_type": "display_data"
    }
   ],
   "source": [
    "plt.figure(figsize = (16,8))\n",
    "plt.plot(res_u.loc[:,alpha[0]],label = 'alpha = 0.01')\n",
    "plt.plot(res_u.loc[:,alpha[1]],label = 'alpha = 0.1')\n",
    "plt.plot(res_u.loc[:,alpha[2]],label = 'alpha = 1')\n",
    "plt.plot(T,Y[1:],'ro',label = 'Yield')\n",
    "plt.legend()\n",
    "plt.xlabel('T')\n",
    "plt.ylabel('Instantaneous forward')"
   ]
  },
  {
   "cell_type": "markdown",
   "metadata": {},
   "source": [
    "# Question 1.2"
   ]
  },
  {
   "cell_type": "code",
   "execution_count": 27,
   "metadata": {},
   "outputs": [
    {
     "data": {
      "text/html": [
       "<div>\n",
       "<style scoped>\n",
       "    .dataframe tbody tr th:only-of-type {\n",
       "        vertical-align: middle;\n",
       "    }\n",
       "\n",
       "    .dataframe tbody tr th {\n",
       "        vertical-align: top;\n",
       "    }\n",
       "\n",
       "    .dataframe thead th {\n",
       "        text-align: right;\n",
       "    }\n",
       "</style>\n",
       "<table border=\"1\" class=\"dataframe\">\n",
       "  <thead>\n",
       "    <tr style=\"text-align: right;\">\n",
       "      <th></th>\n",
       "      <th>CHF2Y</th>\n",
       "      <th>CHF3Y</th>\n",
       "      <th>CHF4Y</th>\n",
       "      <th>CHF5Y</th>\n",
       "      <th>CHF7Y</th>\n",
       "      <th>CHF10Y</th>\n",
       "      <th>CHF20Y</th>\n",
       "      <th>CHF30Y</th>\n",
       "    </tr>\n",
       "  </thead>\n",
       "  <tbody>\n",
       "    <tr>\n",
       "      <th>326</th>\n",
       "      <td>-0.795086</td>\n",
       "      <td>-0.730781</td>\n",
       "      <td>-0.608544</td>\n",
       "      <td>-0.474612</td>\n",
       "      <td>-0.239645</td>\n",
       "      <td>-0.000708</td>\n",
       "      <td>0.318946</td>\n",
       "      <td>0.427777</td>\n",
       "    </tr>\n",
       "    <tr>\n",
       "      <th>327</th>\n",
       "      <td>-0.773802</td>\n",
       "      <td>-0.666691</td>\n",
       "      <td>-0.541914</td>\n",
       "      <td>-0.417258</td>\n",
       "      <td>-0.197545</td>\n",
       "      <td>0.039750</td>\n",
       "      <td>0.376872</td>\n",
       "      <td>0.491052</td>\n",
       "    </tr>\n",
       "    <tr>\n",
       "      <th>328</th>\n",
       "      <td>-0.811357</td>\n",
       "      <td>-0.736037</td>\n",
       "      <td>-0.635740</td>\n",
       "      <td>-0.525107</td>\n",
       "      <td>-0.305667</td>\n",
       "      <td>-0.030877</td>\n",
       "      <td>0.421656</td>\n",
       "      <td>0.571305</td>\n",
       "    </tr>\n",
       "    <tr>\n",
       "      <th>329</th>\n",
       "      <td>-0.878847</td>\n",
       "      <td>-0.788783</td>\n",
       "      <td>-0.663124</td>\n",
       "      <td>-0.522708</td>\n",
       "      <td>-0.243878</td>\n",
       "      <td>0.100539</td>\n",
       "      <td>0.636724</td>\n",
       "      <td>0.797054</td>\n",
       "    </tr>\n",
       "    <tr>\n",
       "      <th>330</th>\n",
       "      <td>-0.794860</td>\n",
       "      <td>-0.732032</td>\n",
       "      <td>-0.645307</td>\n",
       "      <td>-0.545175</td>\n",
       "      <td>-0.332144</td>\n",
       "      <td>-0.035333</td>\n",
       "      <td>0.539176</td>\n",
       "      <td>0.733404</td>\n",
       "    </tr>\n",
       "  </tbody>\n",
       "</table>\n",
       "</div>"
      ],
      "text/plain": [
       "        CHF2Y     CHF3Y     CHF4Y     CHF5Y     CHF7Y    CHF10Y    CHF20Y  \\\n",
       "326 -0.795086 -0.730781 -0.608544 -0.474612 -0.239645 -0.000708  0.318946   \n",
       "327 -0.773802 -0.666691 -0.541914 -0.417258 -0.197545  0.039750  0.376872   \n",
       "328 -0.811357 -0.736037 -0.635740 -0.525107 -0.305667 -0.030877  0.421656   \n",
       "329 -0.878847 -0.788783 -0.663124 -0.522708 -0.243878  0.100539  0.636724   \n",
       "330 -0.794860 -0.732032 -0.645307 -0.545175 -0.332144 -0.035333  0.539176   \n",
       "\n",
       "       CHF30Y  \n",
       "326  0.427777  \n",
       "327  0.491052  \n",
       "328  0.571305  \n",
       "329  0.797054  \n",
       "330  0.733404  "
      ]
     },
     "execution_count": 27,
     "metadata": {},
     "output_type": "execute_result"
    }
   ],
   "source": [
    "df2 = df.loc[(len(df.index) - 12 * 10):(len(df.index) - 1),  df.columns[1:(len(df.columns)-2)]].multiply(100)\n",
    "df2.tail()"
   ]
  },
  {
   "cell_type": "code",
   "execution_count": 28,
   "metadata": {},
   "outputs": [],
   "source": [
    "df2 = df2 - df2.shift(1)\n",
    "df2.dropna(inplace = True)"
   ]
  },
  {
   "cell_type": "code",
   "execution_count": 29,
   "metadata": {},
   "outputs": [
    {
     "data": {
      "text/plain": [
       "array([[ 0.02317637,  0.02297935,  0.02040998,  0.01784983,  0.01443562,\n",
       "         0.01211294,  0.00946012,  0.00764974],\n",
       "       [ 0.02297935,  0.0255028 ,  0.02398933,  0.02163776,  0.0179231 ,\n",
       "         0.01509683,  0.01171852,  0.00947727],\n",
       "       [ 0.02040998,  0.02398933,  0.02393541,  0.02271143,  0.02015362,\n",
       "         0.01771769,  0.01419209,  0.01205556],\n",
       "       [ 0.01784983,  0.02163776,  0.02271143,  0.02258215,  0.02138462,\n",
       "         0.01963268,  0.01630695,  0.0144043 ],\n",
       "       [ 0.01443562,  0.0179231 ,  0.02015362,  0.02138462,  0.022187  ,\n",
       "         0.02180873,  0.01937647,  0.01773981],\n",
       "       [ 0.01211294,  0.01509683,  0.01771769,  0.01963268,  0.02180873,\n",
       "         0.02290715,  0.02210037,  0.02040246],\n",
       "       [ 0.00946012,  0.01171852,  0.01419209,  0.01630695,  0.01937647,\n",
       "         0.02210037,  0.02480016,  0.02397965],\n",
       "       [ 0.00764974,  0.00947727,  0.01205556,  0.0144043 ,  0.01773981,\n",
       "         0.02040246,  0.02397965,  0.02562649]])"
      ]
     },
     "execution_count": 29,
     "metadata": {},
     "output_type": "execute_result"
    }
   ],
   "source": [
    "df2_mean = np.array(df2 - df2.mean())\n",
    "VarCovar = np.matmul(df2_mean.T,df2_mean) / len(df2)\n",
    "VarCovar"
   ]
  },
  {
   "cell_type": "code",
   "execution_count": 30,
   "metadata": {},
   "outputs": [],
   "source": [
    "eigenvec = np.linalg.eig(np.array(VarCovar))[1]\n",
    "eigenval = np.linalg.eig(np.array(VarCovar))[0]"
   ]
  },
  {
   "cell_type": "code",
   "execution_count": 31,
   "metadata": {},
   "outputs": [],
   "source": [
    "Y = np.matmul(eigenvec,np.array(df2_mean).T)"
   ]
  },
  {
   "cell_type": "code",
   "execution_count": 34,
   "metadata": {
    "scrolled": true
   },
   "outputs": [
    {
     "name": "stdout",
     "output_type": "stream",
     "text": [
      "The first 3 pricipal components are, i.e. the ones corresponding to the eigenvalues 0.146793761724 0.0350701450131 0.0061939296407\n",
      "They explain 0.986054325054 of the variance\n"
     ]
    }
   ],
   "source": [
    "print ('The first 3 pricipal components are, i.e. the ones corresponding to the eigenvalues',eigenval[0],eigenval[1],eigenval[2])\n",
    "print ('They explain',(eigenval[0]+eigenval[1]+eigenval[2])/np.sum(eigenval),'of the variance')"
   ]
  },
  {
   "cell_type": "code",
   "execution_count": 33,
   "metadata": {},
   "outputs": [
    {
     "data": {
      "text/plain": [
       "<matplotlib.legend.Legend at 0x1105a57f0>"
      ]
     },
     "execution_count": 33,
     "metadata": {},
     "output_type": "execute_result"
    },
    {
     "data": {
      "image/png": "[encoded data removed]",
      "text/plain": [
       "<Figure size 1152x576 with 1 Axes>"
      ]
     },
     "metadata": {
      "needs_background": "light"
     },
     "output_type": "display_data"
    }
   ],
   "source": [
    "plt.figure(figsize = (16,8))\n",
    "plt.plot(-eigenvec.T[0],label = ('level'))\n",
    "plt.plot(-eigenvec.T[1],label = ('slope'))\n",
    "plt.plot(-eigenvec.T[2],label = ('curvature'))\n",
    "plt.legend()"
   ]
  }
 ],
 "metadata": {
  "kernelspec": {
   "display_name": "Python 3",
   "language": "python",
   "name": "python3"
  },
  "language_info": {
   "codemirror_mode": {
    "name": "ipython",
    "version": 3
   },
   "file_extension": ".py",
   "mimetype": "text/x-python",
   "name": "python",
   "nbconvert_exporter": "python",
   "pygments_lexer": "ipython3",
   "version": "3.6.8"
  }
 },
 "nbformat": 4,
 "nbformat_minor": 2
}
