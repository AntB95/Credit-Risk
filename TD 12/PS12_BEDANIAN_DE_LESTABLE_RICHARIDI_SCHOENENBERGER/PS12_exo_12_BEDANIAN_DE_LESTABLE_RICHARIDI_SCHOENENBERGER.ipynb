{
 "cells": [
  {
   "cell_type": "markdown",
   "metadata": {},
   "source": [
    "Exercise 1"
   ]
  },
  {
   "cell_type": "code",
   "execution_count": 1,
   "metadata": {
    "collapsed": true
   },
   "outputs": [],
   "source": [
    "import numpy as np\n",
    "from scipy.optimize import root"
   ]
  },
  {
   "cell_type": "markdown",
   "metadata": {},
   "source": [
    "b)"
   ]
  },
  {
   "cell_type": "code",
   "execution_count": 2,
   "metadata": {
    "collapsed": true
   },
   "outputs": [],
   "source": [
    "lam =0.02\n",
    "r=0.05\n",
    "delta = 0.6\n",
    "T=10"
   ]
  },
  {
   "cell_type": "code",
   "execution_count": 3,
   "metadata": {
    "collapsed": true
   },
   "outputs": [],
   "source": [
    "x_star_num = lam*delta/(lam+r)*(1-np.exp(-(r+lam)*T))\n",
    "\n",
    "x_star_denom = 0\n",
    "for i in range(1,21):\n",
    "    x_star_denom = x_star_denom + 1/2*np.exp(-(r+lam)*(i*1/2))\n",
    "    \n",
    "x_star = x_star_num/x_star_denom"
   ]
  },
  {
   "cell_type": "code",
   "execution_count": 4,
   "metadata": {},
   "outputs": [
    {
     "name": "stdout",
     "output_type": "stream",
     "text": [
      "0.0122124715884\n"
     ]
    }
   ],
   "source": [
    "print(x_star)"
   ]
  },
  {
   "cell_type": "markdown",
   "metadata": {},
   "source": [
    "c)"
   ]
  },
  {
   "cell_type": "code",
   "execution_count": 5,
   "metadata": {
    "collapsed": true
   },
   "outputs": [],
   "source": [
    "x_y = 0.01\n",
    "v_def = lam*delta/(lam+r)*(1-np.exp(-(r+lam)*T))\n",
    "\n",
    "x_star_denom = 0\n",
    "for i in range(1,21):\n",
    "    x_star_denom = x_star_denom + 1/2*np.exp(-(r+lam)*(i*1/2))\n",
    "    \n",
    "v_prem = x_y*x_star_denom\n",
    "v_contract = v_def - v_prem"
   ]
  },
  {
   "cell_type": "code",
   "execution_count": 6,
   "metadata": {},
   "outputs": [
    {
     "name": "stdout",
     "output_type": "stream",
     "text": [
      "1563447.24606\n"
     ]
    }
   ],
   "source": [
    "print(100000000*v_contract)"
   ]
  },
  {
   "cell_type": "markdown",
   "metadata": {
    "collapsed": true
   },
   "source": [
    "Exercise 2"
   ]
  },
  {
   "cell_type": "markdown",
   "metadata": {},
   "source": [
    "a)"
   ]
  },
  {
   "cell_type": "code",
   "execution_count": 38,
   "metadata": {
    "collapsed": true
   },
   "outputs": [],
   "source": [
    "delta = 0.4\n",
    "r = 0.01\n",
    "x_1 = 0.02\n",
    "def fun_a(a):\n",
    "    return (delta*2*a)/(2*a+r)*(1-np.exp(-(2*a+r)/2))-x_1/2*np.exp(-(2*a+r)/2)"
   ]
  },
  {
   "cell_type": "code",
   "execution_count": 39,
   "metadata": {},
   "outputs": [
    {
     "data": {
      "text/plain": [
       "    fjac: array([[-1.]])\n",
       "     fun: array([ -1.21430643e-17])\n",
       " message: 'The solution converged.'\n",
       "    nfev: 7\n",
       "     qtf: array([  5.62050406e-16])\n",
       "       r: array([-0.39900982])\n",
       "  status: 1\n",
       " success: True\n",
       "       x: array([ 0.02463144])"
      ]
     },
     "execution_count": 39,
     "metadata": {},
     "output_type": "execute_result"
    }
   ],
   "source": [
    "root(fun_a,0.05)"
   ]
  },
  {
   "cell_type": "code",
   "execution_count": 40,
   "metadata": {},
   "outputs": [
    {
     "name": "stdout",
     "output_type": "stream",
     "text": [
      "[ 0.02463144]\n"
     ]
    }
   ],
   "source": [
    "a= root(fun_a,0.05)\n",
    "a=a.x\n",
    "print(a)"
   ]
  },
  {
   "cell_type": "markdown",
   "metadata": {},
   "source": [
    "b)"
   ]
  },
  {
   "cell_type": "code",
   "execution_count": 32,
   "metadata": {
    "collapsed": true
   },
   "outputs": [],
   "source": [
    "x_2=0.04\n",
    "\n",
    "def fun_b(b):\n",
    "    denom = 0.5*(np.exp(-(2*a+r)/2)+np.exp(-((2*a+b)/2)+a+r))\n",
    "    num = delta*((2*a)/(2*a+r)*(1-np.exp(-(2*a+r)/2))-(2*a+b)/(2*a+b+r)*np.exp(b/2)*(np.exp(-(2*a+b+r))-np.exp(-(2*a+b+r)/2)))\n",
    "    return num - x_2*denom"
   ]
  },
  {
   "cell_type": "code",
   "execution_count": 33,
   "metadata": {},
   "outputs": [
    {
     "data": {
      "text/plain": [
       "    fjac: array([[-1.]])\n",
       "     fun: array([  1.38777878e-17])\n",
       " message: 'The solution converged.'\n",
       "    nfev: 11\n",
       "     qtf: array([ -1.88814242e-13])\n",
       "       r: array([-0.1888343])\n",
       "  status: 1\n",
       " success: True\n",
       "       x: array([ 0.10564099])"
      ]
     },
     "execution_count": 33,
     "metadata": {},
     "output_type": "execute_result"
    }
   ],
   "source": [
    "root(fun_b,2)"
   ]
  },
  {
   "cell_type": "code",
   "execution_count": 34,
   "metadata": {},
   "outputs": [
    {
     "name": "stdout",
     "output_type": "stream",
     "text": [
      "[ 0.10564099]\n"
     ]
    }
   ],
   "source": [
    "b= root(fun_b,0.05)\n",
    "b=b.x\n",
    "print(b)"
   ]
  },
  {
   "cell_type": "code",
   "execution_count": null,
   "metadata": {
    "collapsed": true
   },
   "outputs": [],
   "source": []
  }
 ],
 "metadata": {
  "kernelspec": {
   "display_name": "Python 3",
   "language": "python",
   "name": "python3"
  },
  "language_info": {
   "codemirror_mode": {
    "name": "ipython",
    "version": 3
   },
   "file_extension": ".py",
   "mimetype": "text/x-python",
   "name": "python",
   "nbconvert_exporter": "python",
   "pygments_lexer": "ipython3",
   "version": "3.6.1"
  }
 },
 "nbformat": 4,
 "nbformat_minor": 2
}
