{
 "cells": [
  {
   "cell_type": "code",
   "execution_count": 1,
   "metadata": {},
   "outputs": [],
   "source": [
    "import numpy as np"
   ]
  },
  {
   "cell_type": "markdown",
   "metadata": {},
   "source": [
    "# Problem Set 6\n",
    "### Authors: Maxime Richiardi, Ivan Schönenberger, Nicolas de Lestable, Antoine Bedanian"
   ]
  },
  {
   "cell_type": "markdown",
   "metadata": {},
   "source": [
    "## Exercise 4"
   ]
  },
  {
   "cell_type": "code",
   "execution_count": 2,
   "metadata": {},
   "outputs": [],
   "source": [
    "# Set Parameters\n",
    "kappa = 0.5\n",
    "theta = 0.02\n",
    "b     = kappa * theta\n",
    "beta  = - kappa\n",
    "sigma_sq = (0.01)**2\n",
    "r0    = 0.01\n",
    "t     = 0\n",
    "Tn    = 30\n",
    "T0    = 3 / 12\n",
    "T1    = 6 / 12\n",
    "delta = 3 / 12\n",
    "T = np.arange(T1, Tn + delta, delta)"
   ]
  },
  {
   "cell_type": "code",
   "execution_count": 6,
   "metadata": {},
   "outputs": [],
   "source": [
    "# Function to calculate the bond price\n",
    "def bond_price (t, T, beta, sigma_sq,b,r0):\n",
    "    big_B = (np.exp(beta*(T-t))-1)/beta\n",
    "    big_A = sigma_sq*(4*np.exp(beta*(T-t))-np.exp(2*beta*(T-t))-2*beta*(T-t)-3)/(4*beta**3)+b*(np.exp(beta*(T-t))-1-beta*(T-t))/(beta**2)\n",
    "    return np.exp(-big_A-big_B*r0)"
   ]
  },
  {
   "cell_type": "code",
   "execution_count": 7,
   "metadata": {},
   "outputs": [],
   "source": [
    "P_0 = bond_price(t,T0,beta,sigma_sq,b,r0)\n",
    "P_n = bond_price(t,Tn,beta,sigma_sq,b,r0)\n",
    "\n",
    "# Compute the cap price\n",
    "cum =0\n",
    "for mat in T:\n",
    "    cum = cum + bond_price(t,mat,beta,sigma_sq,b,r0)\n",
    "cap_price = (P_0-P_n)/(delta*cum)\n",
    "print('The price of the cap is ' )"
   ]
  },
  {
   "cell_type": "code",
   "execution_count": 5,
   "metadata": {},
   "outputs": [
    {
     "data": {
      "text/plain": [
       "0.01911912257425614"
      ]
     },
     "execution_count": 5,
     "metadata": {},
     "output_type": "execute_result"
    }
   ],
   "source": [
    "cap_price"
   ]
  },
  {
   "cell_type": "code",
   "execution_count": null,
   "metadata": {
    "collapsed": true
   },
   "outputs": [],
   "source": []
  }
 ],
 "metadata": {
  "kernelspec": {
   "display_name": "Python 3",
   "language": "python",
   "name": "python3"
  },
  "language_info": {
   "codemirror_mode": {
    "name": "ipython",
    "version": 3
   },
   "file_extension": ".py",
   "mimetype": "text/x-python",
   "name": "python",
   "nbconvert_exporter": "python",
   "pygments_lexer": "ipython3",
   "version": "3.7.4"
  }
 },
 "nbformat": 4,
 "nbformat_minor": 2
}
