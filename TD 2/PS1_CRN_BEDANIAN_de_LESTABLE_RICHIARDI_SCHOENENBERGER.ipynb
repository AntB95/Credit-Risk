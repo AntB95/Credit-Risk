{
 "cells": [
  {
   "cell_type": "markdown",
   "metadata": {},
   "source": [
    "# Problem set 1"
   ]
  },
  {
   "cell_type": "markdown",
   "metadata": {},
   "source": [
    "### Antoine BEDANIAN Nicolas de LESTABLE Ivan SCHOENENBERGER Maxime RICHARDI "
   ]
  },
  {
   "cell_type": "code",
   "execution_count": 24,
   "metadata": {},
   "outputs": [],
   "source": [
    "import numpy as np\n",
    "import matplotlib.pyplot as plt\n",
    "import scipy.stats\n",
    "import scipy.optimize"
   ]
  },
  {
   "cell_type": "markdown",
   "metadata": {
    "collapsed": true
   },
   "source": [
    "## Exercie 3 "
   ]
  },
  {
   "cell_type": "code",
   "execution_count": 25,
   "metadata": {},
   "outputs": [],
   "source": [
    "b= [np.exp(-0.06*1),np.exp(-0.058*2),np.exp(-0.0562*3),np.exp(-0.0546*4),np.exp(-0.0533*5),np.exp(-0.0525*6),np.exp(-0.052*7),np.exp(-0.0516*8),np.exp(-0.05125*9),np.exp(-0.05100*10)]\n",
    "#Portfolio \n",
    "portfolio=6*b[0]+8*b[1]+106*b[2]+7*b[3]+0*b[4]+102*b[5]+3*b[6]+3*b[7]+3*b[8]+110*b[9]\n",
    "#Bond 1\n",
    "bond1=4*b[0]+4*b[1]+4*b[2]+4*b[3]+4*b[4]+4*b[5]+104*b[6]\n",
    "#Bond 2\n",
    "bond2=10*b[0]+10*b[1]+10*b[2]+10*b[3]+10*b[4]+10*b[5]+10*b[6]+110*b[7]"
   ]
  },
  {
   "cell_type": "code",
   "execution_count": 26,
   "metadata": {},
   "outputs": [
    {
     "name": "stdout",
     "output_type": "stream",
     "text": [
      "254.409295494\n",
      "92.1756253141\n",
      "129.513673737\n"
     ]
    }
   ],
   "source": [
    "print(portfolio)\n",
    "print(bond1)\n",
    "print(bond2)"
   ]
  },
  {
   "cell_type": "code",
   "execution_count": 27,
   "metadata": {},
   "outputs": [],
   "source": [
    "duration_portfolio=(1*6*b[0]+2*8*b[1]+3*106*b[2]+4*7*b[3]+5*0*b[4]+6*102*b[5]+7*3*b[6]+8*3*b[7]+9*3*b[8]+10*110*b[9])/portfolio\n",
    "duration_bond1=(1*4*b[0]+2*4*b[1]+3*4*b[2]+4*4*b[3]+5*4*b[4]+6*4*b[5]+7*104*b[6])/bond1\n",
    "duration_bond2=(1*10*b[0]+2*10*b[1]+3*10*b[2]+4*10*b[3]+5*10*b[4]+6*10*b[5]+7*10*b[6]+8*110*b[7])/bond2"
   ]
  },
  {
   "cell_type": "code",
   "execution_count": 28,
   "metadata": {},
   "outputs": [
    {
     "name": "stdout",
     "output_type": "stream",
     "text": [
      "5.76135022907\n",
      "6.21212737952\n",
      "6.16024913527\n"
     ]
    }
   ],
   "source": [
    "print(duration_portfolio)\n",
    "print(duration_bond1)\n",
    "print(duration_bond2)"
   ]
  },
  {
   "cell_type": "code",
   "execution_count": 29,
   "metadata": {},
   "outputs": [],
   "source": [
    "convexity_portfolio=(1**2*6*b[0]+2**2*8*b[1]+3**2*106*b[2]+4**2*7*b[3]+5**2*0*b[4]+6**2*102*b[5]+7**2*3*b[6]+8**2*3*b[7]+9**2*3*b[8]+10**2*110*b[9])/portfolio\n",
    "convexity_bond1=(1**2*4*b[0]+2**2*4*b[1]+3**2*4*b[2]+4**2*4*b[3]+5**2*4*b[4]+6**2*4*b[5]+7**2*104*b[6])/bond1\n",
    "convexity_bond2=(1**2*10*b[0]+2**2*10*b[1]+3**2*10*b[2]+4**2*10*b[3]+5**2*10*b[4]+6**2*10*b[5]+7**2*10*b[6]+8**2*110*b[7])/bond2"
   ]
  },
  {
   "cell_type": "code",
   "execution_count": 30,
   "metadata": {},
   "outputs": [
    {
     "name": "stdout",
     "output_type": "stream",
     "text": [
      "41.6565582217\n",
      "41.4722797487\n",
      "44.0374377641\n"
     ]
    }
   ],
   "source": [
    "print(convexity_portfolio)\n",
    "print(convexity_bond1)\n",
    "print(convexity_bond2)"
   ]
  },
  {
   "cell_type": "code",
   "execution_count": 31,
   "metadata": {},
   "outputs": [],
   "source": [
    "temp = np.eye(2)\n",
    "temp[0,0]= -duration_bond1*bond1\n",
    "temp[0,1]= -duration_bond2*bond2\n",
    "temp[1,0]= convexity_bond1*bond1\n",
    "temp[1,1]= convexity_bond2*bond2\n",
    "\n",
    "sol = np.linalg.inv(temp) @ [duration_portfolio*portfolio,-convexity_portfolio*portfolio]"
   ]
  },
  {
   "cell_type": "code",
   "execution_count": 32,
   "metadata": {},
   "outputs": [
    {
     "data": {
      "text/plain": [
       "array([ 0.44249593, -2.15472369])"
      ]
     },
     "execution_count": 32,
     "metadata": {},
     "output_type": "execute_result"
    }
   ],
   "source": [
    "sol"
   ]
  },
  {
   "cell_type": "code",
   "execution_count": 33,
   "metadata": {},
   "outputs": [],
   "source": [
    "def value_curve(shift,q1,q2):\n",
    "    b= [np.exp(-(0.06+shift)*1),np.exp(-(0.058+shift)*2),np.exp(-(0.0562+shift)*3),np.exp(-(0.0546+shift)*4),np.exp(-(0.0533+shift)*5),np.exp(-(0.0525+shift)*6),np.exp(-(0.052+shift)*7),np.exp(-(0.0516+shift)*8),np.exp(-(0.05125+shift)*9),np.exp(-(0.05100+shift)*10)]\n",
    "    port_coupon=[6.,8.,106.,7.,0.,102.,3.,3.,3.,110.]\n",
    "    bond1_coupon=[4.,4.,4.,4.,4.,4.,104.,0.,0.,0.]\n",
    "    bond2_coupon=[10.,10.,10.,10.,10.,10.,10.,110.,0.,0.]\n",
    "    hedge_coupon=[]\n",
    "    for i in range(0,10):\n",
    "        temp= port_coupon[i]+q1*bond1_coupon[i]+q2*bond2_coupon[i]\n",
    "        hedge_coupon=np.append(hedge_coupon,temp)\n",
    "    \n",
    "    hedge_value = np.sum(np.multiply(hedge_coupon,b))\n",
    "    return hedge_value"
   ]
  },
  {
   "cell_type": "code",
   "execution_count": 34,
   "metadata": {},
   "outputs": [],
   "source": [
    "def value_hedged(shift):\n",
    "    b= [np.exp(-(0.06+shift)*1),np.exp(-(0.058+shift)*2),np.exp(-(0.0562+shift)*3),np.exp(-(0.0546+shift)*4),np.exp(-(0.0533+shift)*5),np.exp(-(0.0525+shift)*6),np.exp(-(0.052+shift)*7),np.exp(-(0.0516+shift)*8),np.exp(-(0.05125+shift)*9),np.exp(-(0.05100+shift)*10)]\n",
    "    port_coupon=[6.,8.,106.,7.,0.,102.,3.,3.,3.,110.]\n",
    "    bond1_coupon=[4.,4.,4.,4.,4.,4.,104.,0.,0.,0.]\n",
    "    bond2_coupon=[10.,10.,10.,10.,10.,10.,10.,110.,0.,0.]\n",
    "    hedge_coupon=[]\n",
    "    \n",
    "    portfolio=6*b[0]+8*b[1]+106*b[2]+7*b[3]+0*b[4]+102*b[5]+3*b[6]+3*b[7]+3*b[8]+110*b[9]\n",
    "    #Bond 1\n",
    "    bond1=4*b[0]+4*b[1]+4*b[2]+4*b[3]+4*b[4]+4*b[5]+104*b[6]\n",
    "    #Bond 2\n",
    "    bond2=10*b[0]+10*b[1]+10*b[2]+10*b[3]+10*b[4]+10*b[5]+10*b[6]+110*b[7]\n",
    "    \n",
    "    duration_portfolio=(1*6*b[0]+2*8*b[1]+3*106*b[2]+4*7*b[3]+5*0*b[4]+6*102*b[5]+7*3*b[6]+8*3*b[7]+9*3*b[8]+10*110*b[9])/portfolio\n",
    "    duration_bond1=(1*4*b[0]+2*4*b[1]+3*4*b[2]+4*4*b[3]+5*4*b[4]+6*4*b[5]+7*104*b[6])/bond1\n",
    "    duration_bond2=(1*10*b[0]+2*10*b[1]+3*10*b[2]+4*10*b[3]+5*10*b[4]+6*10*b[5]+7*10*b[6]+8*110*b[7])/bond2\n",
    "    \n",
    "    convexity_portfolio=(1**2*6*b[0]+2**2*8*b[1]+3**2*106*b[2]+4**2*7*b[3]+5**2*0*b[4]+6**2*102*b[5]+7**2*3*b[6]+8**2*3*b[7]+9**2*3*b[8]+10**2*110*b[9])/portfolio\n",
    "    convexity_bond1=(1**2*4*b[0]+2**2*4*b[1]+3**2*4*b[2]+4**2*4*b[3]+5**2*4*b[4]+6**2*4*b[5]+7**2*104*b[6])/bond1\n",
    "    convexity_bond2=(1**2*10*b[0]+2**2*10*b[1]+3**2*10*b[2]+4**2*10*b[3]+5**2*10*b[4]+6**2*10*b[5]+7**2*10*b[6]+8**2*110*b[7])/bond2\n",
    "    \n",
    "    temp = np.eye(2)\n",
    "    temp[0,0]= -duration_bond1*bond1\n",
    "    temp[0,1]= -duration_bond2*bond2\n",
    "    temp[1,0]= convexity_bond1*bond1\n",
    "    temp[1,1]= convexity_bond2*bond2\n",
    "\n",
    "    #q = np.linalg.inv(temp) @ [duration_portfolio*portfolio,-convexity_portfolio*portfolio]\n",
    "    \n",
    "    for i in range(0,10):\n",
    "        temp= port_coupon[i]+sol[0]*bond1_coupon[i]+sol[1]*bond2_coupon[i]\n",
    "        hedge_coupon=np.append(hedge_coupon,temp)\n",
    "    \n",
    "    hedge_value = np.sum(np.multiply(hedge_coupon,b))\n",
    "    return hedge_value"
   ]
  },
  {
   "cell_type": "code",
   "execution_count": 35,
   "metadata": {},
   "outputs": [
    {
     "data": {
      "image/png": "[encoded data removed]",
      "text/plain": [
       "<Figure size 432x288 with 1 Axes>"
      ]
     },
     "metadata": {
      "needs_background": "light"
     },
     "output_type": "display_data"
    }
   ],
   "source": [
    "grid=np.linspace(-0.002,0.002,100)\n",
    "result=[]\n",
    "for i in range(0,len(grid)):\n",
    "    temp=value_hedged(grid[i])-value_hedged(0)\n",
    "    result=np.append(result,temp)\n",
    "plt.plot(grid*100,result)\n",
    "plt.xlabel(\"Yield curve shift\")\n",
    "plt.ylabel(\"Value change\")\n",
    "plt.show()"
   ]
  },
  {
   "cell_type": "code",
   "execution_count": 36,
   "metadata": {},
   "outputs": [],
   "source": [
    "##EXO 4"
   ]
  },
  {
   "cell_type": "code",
   "execution_count": 37,
   "metadata": {},
   "outputs": [],
   "source": [
    "def caplet_black(y,f,sigma,k,t,t0,t1):\n",
    "    p = np.exp(-y*(t1-t))\n",
    "    d = t1-t0\n",
    "    d1 = (np.log(f/k)+ 0.5*sigma**2*(t0-t))/(sigma*np.sqrt(t0-t))\n",
    "    d2 = (np.log(f/k)- 0.5*sigma**2*(t0-t))/(sigma*np.sqrt(t0-t))\n",
    "    \n",
    "    return d*p*(f*scipy.stats.norm.cdf(d1)-k*scipy.stats.norm.cdf(d2))\n",
    "\n"
   ]
  },
  {
   "cell_type": "code",
   "execution_count": 38,
   "metadata": {},
   "outputs": [
    {
     "data": {
      "text/plain": [
       "0.013049947392014823"
      ]
     },
     "execution_count": 38,
     "metadata": {},
     "output_type": "execute_result"
    }
   ],
   "source": [
    "caplet_black(0.03,0.04,0.4945,0.04,0,4,5)"
   ]
  },
  {
   "cell_type": "code",
   "execution_count": 39,
   "metadata": {},
   "outputs": [],
   "source": [
    "form=1*np.exp(-0.03*5)*0.04*(scipy.stats.norm.cdf(0.4945)-scipy.stats.norm.cdf(-0.4945))"
   ]
  },
  {
   "cell_type": "code",
   "execution_count": 40,
   "metadata": {},
   "outputs": [
    {
     "name": "stdout",
     "output_type": "stream",
     "text": [
      "0.0190025932205\n"
     ]
    }
   ],
   "source": [
    "sigma = form/(1*np.exp(-0.03*5)*2*(1/np.sqrt(2*np.pi)))\n",
    "print(sigma)"
   ]
  },
  {
   "cell_type": "markdown",
   "metadata": {
    "collapsed": true
   },
   "source": [
    "### Exercie 4"
   ]
  },
  {
   "cell_type": "code",
   "execution_count": 41,
   "metadata": {},
   "outputs": [],
   "source": [
    "delta = 1 \n",
    "t = 0 \n",
    "Ti_1 = 4\n",
    "Ti = 5\n",
    "k = np.array([1,1.5,2,3,3.5,4,5,6,7,8,9])/100\n",
    "F045 = 0.04\n",
    "y05 = 0.03\n",
    "P05 = np.exp(-(Ti-t)*y05)\n",
    "D = (F045*np.array([1]) - k)/(sigma*np.sqrt(Ti_1 - t))\n",
    "caplet_bachelier = delta*P05*sigma*np.sqrt(Ti_1 - t)*(D*scipy.stats.norm.cdf(D)+scipy.stats.norm.pdf(D))"
   ]
  },
  {
   "cell_type": "code",
   "execution_count": 42,
   "metadata": {},
   "outputs": [
    {
     "data": {
      "text/plain": [
       "array([ 0.02982761,  0.02653463,  0.02342343,  0.01780264,  0.01531449,\n",
       "        0.01304995,  0.00919556,  0.00620927,  0.00400638,  0.00246367,\n",
       "        0.00144053])"
      ]
     },
     "execution_count": 42,
     "metadata": {},
     "output_type": "execute_result"
    }
   ],
   "source": [
    "caplet_bachelier"
   ]
  },
  {
   "cell_type": "code",
   "execution_count": 43,
   "metadata": {},
   "outputs": [],
   "source": [
    "def black_caplet(sigma):\n",
    "    F045 = 0.04\n",
    "    y05 = 0.03\n",
    "    delta = 1 \n",
    "    t = 0 \n",
    "    Ti_1 = 4\n",
    "    Ti = 5\n",
    "    P05 = np.exp(-(Ti-t)*y05)\n",
    "    d1 = (np.log(F045/k)+ 0.5*sigma**2*(Ti_1-t))/(sigma*np.sqrt(Ti_1-t))\n",
    "    d2 = (np.log(F045/k) - 0.5*sigma**2*(Ti_1-t))/(sigma*np.sqrt(Ti_1-t))\n",
    "    return (delta*P05*(F045*scipy.stats.norm.cdf(d1)-k*scipy.stats.norm.cdf(d2)) - cp)**2\n",
    "\n",
    "K = np.array([1,1.5,2,3,3.5,4,5,6,7,8,9])/100\n",
    "res = []\n",
    "for i in range(0,len(K)):\n",
    "    k = K[i]\n",
    "    cp = caplet_bachelier[i]\n",
    "    res += [scipy.optimize.minimize(black_caplet,0.8).x]   "
   ]
  },
  {
   "cell_type": "code",
   "execution_count": 44,
   "metadata": {},
   "outputs": [
    {
     "data": {
      "image/png": "[encoded data removed]",
      "text/plain": [
       "<Figure size 432x288 with 1 Axes>"
      ]
     },
     "metadata": {
      "needs_background": "light"
     },
     "output_type": "display_data"
    }
   ],
   "source": [
    "iv = [64,59.65,56.30,51.95,50.50,49.45,47.95,47,46.35,45.95,45.7]\n",
    "black = [49.45]*len(iv)\n",
    "res = 100*np.array(res)\n",
    "plt.plot(K,iv,label = 'IV')\n",
    "plt.plot(K,black, label = 'IV Black')\n",
    "plt.plot(K,res, label = 'IV Bachelier')\n",
    "plt.legend()\n",
    "plt.grid()\n",
    "plt.show()"
   ]
  },
  {
   "cell_type": "code",
   "execution_count": 45,
   "metadata": {},
   "outputs": [],
   "source": [
    "sigma = 49.45/100\n",
    "beta = 0.75\n",
    "delta = 1 \n",
    "t = 0 \n",
    "Ti_1 = 4\n",
    "Ti = 5\n",
    "F045 = 0.04\n",
    "y05 = 0.03\n",
    "K = np.array([1,1.5,2,3,3.5,4,5,6,7,8,9])/100\n",
    "dd = caplet_black(y05,F045/beta,beta*sigma,K+F045*(1/beta-1),t,Ti_1,Ti)"
   ]
  },
  {
   "cell_type": "code",
   "execution_count": 46,
   "metadata": {},
   "outputs": [],
   "source": [
    "def dd_caplet(sigma):\n",
    "    F045 = 0.04\n",
    "    y05 = 0.03\n",
    "    delta = 1 \n",
    "    t = 0 \n",
    "    Ti_1 = 4\n",
    "    Ti = 5\n",
    "    P05 = np.exp(-(Ti-t)*y05)\n",
    "    d1 = (np.log(F045/k)+ 0.5*sigma**2*(Ti_1-t))/(sigma*np.sqrt(Ti_1-t))\n",
    "    d2 = (np.log(F045/k) - 0.5*sigma**2*(Ti_1-t))/(sigma*np.sqrt(Ti_1-t))\n",
    "    return (delta*P05*(F045*scipy.stats.norm.cdf(d1)-k*scipy.stats.norm.cdf(d2)) - Dd)**2\n",
    "\n",
    "dd_iv = []\n",
    "for i in range(0,len(K)):\n",
    "    k = K[i]\n",
    "    Dd = dd[i]\n",
    "    dd_iv += [scipy.optimize.minimize(dd_caplet,1).x]  \n",
    "dd_iv = np.array(dd_iv)*100"
   ]
  },
  {
   "cell_type": "code",
   "execution_count": 47,
   "metadata": {},
   "outputs": [
    {
     "data": {
      "image/png": "[encoded data removed]",
      "text/plain": [
       "<Figure size 432x288 with 1 Axes>"
      ]
     },
     "metadata": {
      "needs_background": "light"
     },
     "output_type": "display_data"
    }
   ],
   "source": [
    "plt.plot(K,iv,label = 'IV')\n",
    "plt.plot(K,black, label = 'IV Black')\n",
    "plt.plot(K,res, label = 'IV Bachelier')\n",
    "plt.plot(K,dd_iv, label = 'IV DD')\n",
    "plt.legend()\n",
    "plt.grid()\n",
    "plt.show()"
   ]
  }
 ],
 "metadata": {
  "kernelspec": {
   "display_name": "Python 3",
   "language": "python",
   "name": "python3"
  },
  "language_info": {
   "codemirror_mode": {
    "name": "ipython",
    "version": 3
   },
   "file_extension": ".py",
   "mimetype": "text/x-python",
   "name": "python",
   "nbconvert_exporter": "python",
   "pygments_lexer": "ipython3",
   "version": "3.6.8"
  }
 },
 "nbformat": 4,
 "nbformat_minor": 2
}
