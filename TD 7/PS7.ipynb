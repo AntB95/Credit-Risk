{
 "cells": [
  {
   "cell_type": "code",
   "execution_count": 73,
   "metadata": {},
   "outputs": [],
   "source": [
    "import numpy as np\n",
    "from scipy.optimize import minimize\n",
    "import scipy.stats as stats"
   ]
  },
  {
   "cell_type": "code",
   "execution_count": 19,
   "metadata": {},
   "outputs": [],
   "source": [
    "beta = -0.086\n",
    "b = 0.09 * abs(beta)\n",
    "sigma = 0.0148\n",
    "T = np.array([0.25 , 0.5 , 0.75 , 1])\n",
    "r0 = 0.08"
   ]
  },
  {
   "cell_type": "code",
   "execution_count": 63,
   "metadata": {},
   "outputs": [],
   "source": [
    "def To_Min(A,B,r,K,c):\n",
    "    inter = 0\n",
    "    for i in range(len(c)):\n",
    "        inter = inter + c[i] * np.exp(-A[i]-B[i]*r)\n",
    "    return abs(inter - K)\n",
    "\n",
    "def A(t,T,b = b,beta = beta, sigma = sigma):\n",
    "    return 1/(4*beta**3)*sigma**2 * (4*np.exp(beta * (T-t)) - np.exp(2*beta*(T-t)) - 2 * beta * (T-t) - 3) + b / beta**2 * (np.exp(beta * (T-t)) - 1 - beta * (T-t))\n",
    "\n",
    "def B(t,T,b = b , beta = beta,sigma = sigma):\n",
    "    return 1/beta * (np.exp(beta * (T-t)) - 1)"
   ]
  },
  {
   "cell_type": "code",
   "execution_count": 64,
   "metadata": {},
   "outputs": [],
   "source": [
    "p = [np.exp(-A(0,T[i]) - B(0,T[i]) * r0) for i in range(len(T))]\n",
    "K = (p[1] + p[2] + p[3]) / p[0]\n",
    "c = [4,4,104]\n",
    "A = [A(0,T[i]) for i in range(2,len(T))]\n",
    "B = [B(0,T[i]) for i in range(2,len(T))]"
   ]
  },
  {
   "cell_type": "code",
   "execution_count": 65,
   "metadata": {},
   "outputs": [],
   "source": [
    "fun = lambda x: To_Min(A,B,x,K,c)\n",
    "res = minimize(fun,r0)"
   ]
  },
  {
   "cell_type": "code",
   "execution_count": 74,
   "metadata": {},
   "outputs": [],
   "source": [
    "r_star = res.x\n",
    "K_i = [np.exp(-A[i] - B[i] * r_star) for i in range(len(A))]\n",
    "S_i = [np.exp(-A[i] - B[i] * r0) for i in range(len(A))]\n",
    "Puts = [BS_Put(S_i[i],K_i[i],0,r0,sigma , T[i + 1]) for i in range(len(A))]"
   ]
  },
  {
   "cell_type": "code",
   "execution_count": 69,
   "metadata": {},
   "outputs": [],
   "source": [
    "def BS_Put(S,K,q,r,sig,delta):\n",
    "    d1 = (np.log(S/K) + (r - q + sig**2 /2) * delta) / (sig * np.sqrt(delta))\n",
    "    d2 = d1 - sig * np.sqrt(delta)\n",
    "    return - np.exp(-q*delta)*S*stats.norm.cdf(-d1) + np.exp(-r*delta)*K*stats.norm.cdf(-d2)"
   ]
  },
  {
   "cell_type": "code",
   "execution_count": 75,
   "metadata": {},
   "outputs": [
    {
     "data": {
      "text/plain": [
       "[array([0.]), array([0.]), array([0.])]"
      ]
     },
     "execution_count": 75,
     "metadata": {},
     "output_type": "execute_result"
    }
   ],
   "source": [
    "Puts"
   ]
  },
  {
   "cell_type": "code",
   "execution_count": 76,
   "metadata": {},
   "outputs": [
    {
     "data": {
      "text/plain": [
       "[0.9606918696797472, 0.9415554103608351, 0.9227622236271418]"
      ]
     },
     "execution_count": 76,
     "metadata": {},
     "output_type": "execute_result"
    }
   ],
   "source": [
    "S_i"
   ]
  },
  {
   "cell_type": "code",
   "execution_count": 79,
   "metadata": {},
   "outputs": [
    {
     "data": {
      "text/plain": [
       "[array([0.13718805]), array([0.05240591]), array([0.02042351])]"
      ]
     },
     "execution_count": 79,
     "metadata": {},
     "output_type": "execute_result"
    }
   ],
   "source": [
    "K_i"
   ]
  },
  {
   "cell_type": "code",
   "execution_count": null,
   "metadata": {},
   "outputs": [],
   "source": []
  }
 ],
 "metadata": {
  "kernelspec": {
   "display_name": "Python 3",
   "language": "python",
   "name": "python3"
  },
  "language_info": {
   "codemirror_mode": {
    "name": "ipython",
    "version": 3
   },
   "file_extension": ".py",
   "mimetype": "text/x-python",
   "name": "python",
   "nbconvert_exporter": "python",
   "pygments_lexer": "ipython3",
   "version": "3.7.4"
  }
 },
 "nbformat": 4,
 "nbformat_minor": 2
}
