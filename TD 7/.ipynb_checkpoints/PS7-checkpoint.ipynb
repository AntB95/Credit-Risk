{
 "cells": [
  {
   "cell_type": "code",
   "execution_count": 1,
   "metadata": {},
   "outputs": [],
   "source": [
    "import numpy as np\n",
    "from scipy.optimize import minimize\n",
    "import scipy.stats as stats"
   ]
  },
  {
   "cell_type": "code",
   "execution_count": 2,
   "metadata": {},
   "outputs": [],
   "source": [
    "# Set Parameters\n",
    "beta = -0.86\n",
    "b = 0.09 * abs(beta)\n",
    "sigma = 0.0148\n",
    "T = np.array([0.25 , 0.5 , 0.75 , 1])\n",
    "r0 = 0.08"
   ]
  },
  {
   "cell_type": "code",
   "execution_count": 3,
   "metadata": {},
   "outputs": [],
   "source": [
    "#Code the function needed to compute the price of the ZCB Put Price\n",
    "\n",
    "#This is the function to minimize to find the r_star\n",
    "def To_Min(T,r,K,c):\n",
    "    Vasi = Vasicek(T[0],T[1:],r)\n",
    "    return abs(np.matmul(c,Vasi) - K)\n",
    "\n",
    "#The next 3 functions enable to compute Vasicek model\n",
    "def A(t,T,b = b,beta = beta, sigma = sigma):\n",
    "    return 1/(4*beta**3)*sigma**2 * (4*np.exp(beta * (T-t)) - np.exp(2*beta*(T-t)) - 2 * beta * (T-t) - 3) + b / beta**2 * (np.exp(beta * (T-t)) - 1 - beta * (T-t))\n",
    "\n",
    "def B(t,T,b = b , beta = beta,sigma = sigma):\n",
    "    return 1/beta * (np.exp(beta * (T-t)) - 1)\n",
    "\n",
    "def Vasicek(t,T,r,b = b , beta = beta , sigma = sigma):\n",
    "    return [np.exp(-A(t,T[i]) - B(t,T[i]) * r) for i in range(len(T))]\n",
    "\n",
    "#Function to price ZCB Put\n",
    "def ZCB_Put(t,T,K,r0,sig,beta):\n",
    "    P_T = np.exp(-A(0,T) - B(0,T) * r0)\n",
    "    P_t = np.exp(-A(0,t) - B(0,t) * r0)\n",
    "    sigma = sig / beta * (np.exp(beta * (T-t)) - 1) * np.sqrt((np.exp(2*beta * t)-1)/(2*beta))\n",
    "    d1 = (np.log(P_T/(P_t * K)) + 1/2 * sigma **2) / sigma\n",
    "    d2 = (np.log(P_T/(P_t * K)) - 1/2 * sigma **2) / sigma\n",
    "    return float(K * P_t * stats.norm.cdf(-d2) - P_T * stats.norm.cdf(-d1))"
   ]
  },
  {
   "cell_type": "code",
   "execution_count": 4,
   "metadata": {},
   "outputs": [],
   "source": [
    "c = [4,4,4,104]\n",
    "p = Vasicek(0,T,r0)\n",
    "K = np.sum(np.array(p)*np.array(c)) / p[0]"
   ]
  },
  {
   "cell_type": "code",
   "execution_count": 5,
   "metadata": {},
   "outputs": [],
   "source": [
    "#Minimize the function to find \n",
    "fun = lambda x: To_Min(T,x,K,c[1:])\n",
    "res = minimize(fun,r0)"
   ]
  },
  {
   "cell_type": "code",
   "execution_count": 6,
   "metadata": {},
   "outputs": [
    {
     "name": "stdout",
     "output_type": "stream",
     "text": [
      "The value of r_star is 0.0123\n"
     ]
    }
   ],
   "source": [
    "r_star = res.x\n",
    "K_i = Vasicek(T[0],T[1:],r_star)\n",
    "S_i = Vasicek(0,T[1:],r0)\n",
    "Puts = [ZCB_Put(T[0],T[i],K_i[i-1],r0,sigma,beta) for i in range(1,len(T))]\n",
    "print('The value of r_star is ' + str(round(r_star[0],4)))"
   ]
  },
  {
   "cell_type": "code",
   "execution_count": 7,
   "metadata": {},
   "outputs": [
    {
     "name": "stdout",
     "output_type": "stream",
     "text": [
      "The price of the ZCB Put is 3.92 CHF\n"
     ]
    }
   ],
   "source": [
    "Price = np.matmul(c[1:],Puts)\n",
    "print('The price of the ZCB Put is ' + str(round(Price,2)) + ' CHF')"
   ]
  }
 ],
 "metadata": {
  "kernelspec": {
   "display_name": "Python 3",
   "language": "python",
   "name": "python3"
  },
  "language_info": {
   "codemirror_mode": {
    "name": "ipython",
    "version": 3
   },
   "file_extension": ".py",
   "mimetype": "text/x-python",
   "name": "python",
   "nbconvert_exporter": "python",
   "pygments_lexer": "ipython3",
   "version": "3.6.8"
  }
 },
 "nbformat": 4,
 "nbformat_minor": 2
}
