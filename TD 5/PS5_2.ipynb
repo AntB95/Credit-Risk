{
 "cells": [
  {
   "cell_type": "code",
   "execution_count": 1,
   "metadata": {},
   "outputs": [],
   "source": [
    "import numpy as np\n",
    "import pandas as pd\n",
    "import matplotlib.pyplot as plt"
   ]
  },
  {
   "cell_type": "code",
   "execution_count": 2,
   "metadata": {},
   "outputs": [],
   "source": [
    "# Set Parameters\n",
    "beta = - 0.86\n",
    "b = 0.09 * np.abs(beta)\n",
    "sig = 0.0148\n",
    "n = 10**4\n",
    "dt = 1/252\n",
    "T = 2"
   ]
  },
  {
   "cell_type": "code",
   "execution_count": 6,
   "metadata": {},
   "outputs": [],
   "source": [
    "B_T = []\n",
    "for i in range(n):\n",
    "    r = [0.095]\n",
    "    t = 0\n",
    "    for j in range(int(T/dt)):\n",
    "        t = t + dt\n",
    "        mu = np.exp(beta * dt) * r[j] + b/beta * (np.exp(beta * dt) - 1)\n",
    "        var = sig**2 * (np.exp(2 * beta * dt) - 1) / (2 * beta)\n",
    "        r.append(float(np.random.normal(mu,np.sqrt(var),1)))\n",
    "    B_T.append(float(np.exp(- np.sum(r)*dt)))"
   ]
  },
  {
   "cell_type": "code",
   "execution_count": 7,
   "metadata": {},
   "outputs": [
    {
     "data": {
      "text/plain": [
       "Text(0.5, 1.0, 'Repartition of B_T')"
      ]
     },
     "execution_count": 7,
     "metadata": {},
     "output_type": "execute_result"
    },
    {
     "data": {
      "image/png": "[encoded data removed]",
      "text/plain": [
       "<Figure size 1152x576 with 1 Axes>"
      ]
     },
     "metadata": {
      "needs_background": "light"
     },
     "output_type": "display_data"
    }
   ],
   "source": [
    "plt.figure(figsize = (16,8))\n",
    "plt.hist(B_T,bins = 30)\n",
    "plt.xlabel('B_T')\n",
    "plt.ylabel('Nb of sim')\n",
    "plt.title('Repartition of B_T')"
   ]
  },
  {
   "cell_type": "code",
   "execution_count": 5,
   "metadata": {},
   "outputs": [
    {
     "name": "stdout",
     "output_type": "stream",
     "text": [
      "We are supposed to find a ZCB price of 0.8339\n"
     ]
    }
   ],
   "source": [
    "f = r[0] * np.exp(beta * T) + b/beta * (np.exp(beta * T) - 1) - sig**2  * (np.exp(beta *T) - 1)**2 / (2 * beta **2)\n",
    "P = np.exp(- T * f)\n",
    "print('We are supposed to find a ZCB price of ' + str(round(P,4)))"
   ]
  },
  {
   "cell_type": "code",
   "execution_count": null,
   "metadata": {
    "scrolled": true
   },
   "outputs": [],
   "source": []
  },
  {
   "cell_type": "code",
   "execution_count": 9,
   "metadata": {},
   "outputs": [
    {
     "data": {
      "text/plain": [
       "0.8311936426418736"
      ]
     },
     "execution_count": 9,
     "metadata": {},
     "output_type": "execute_result"
    }
   ],
   "source": []
  },
  {
   "cell_type": "code",
   "execution_count": null,
   "metadata": {},
   "outputs": [],
   "source": []
  }
 ],
 "metadata": {
  "kernelspec": {
   "display_name": "Python 3",
   "language": "python",
   "name": "python3"
  },
  "language_info": {
   "codemirror_mode": {
    "name": "ipython",
    "version": 3
   },
   "file_extension": ".py",
   "mimetype": "text/x-python",
   "name": "python",
   "nbconvert_exporter": "python",
   "pygments_lexer": "ipython3",
   "version": "3.7.4"
  }
 },
 "nbformat": 4,
 "nbformat_minor": 2
}
